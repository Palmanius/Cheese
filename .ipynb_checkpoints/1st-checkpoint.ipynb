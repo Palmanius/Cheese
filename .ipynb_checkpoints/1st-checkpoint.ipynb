{
 "cells": [
  {
   "cell_type": "code",
   "execution_count": 1,
   "id": "225c2ffe-9097-4c43-9122-98847cd98e5d",
   "metadata": {},
   "outputs": [
    {
     "name": "stdout",
     "output_type": "stream",
     "text": [
      "Overwriting list_file.py\n"
     ]
    }
   ],
   "source": [
    "%%writefile list_file.py\n",
    "\n",
    "# use ipython magic command %%writefile to create a python script file and write below script content to it.\n",
    "# import two python standard module. \n",
    "import sys\n",
    "import os\n",
    "\n",
    "# set dir_name value to current directory by default.\n",
    "dir_name = './'\n",
    "\n",
    "# if user input an argument.\n",
    "if len(sys.argv) > 1:\n",
    "    # give the first argument value to a local variable, the argument value should be a directory name.\n",
    "    dir_name = sys.argv[1]\n",
    "\n",
    "    \n",
    "# get all the dir_name directory contained files in a list\n",
    "files_list = os.listdir(dir_name)\n",
    "    \n",
    "# loop in the files_list.\n",
    "for file in files_list:\n",
    "    # print out file name in the standard output.\n",
    "    print(file)"
   ]
  },
  {
   "cell_type": "code",
   "execution_count": 2,
   "id": "ac564788-9566-441d-9ea2-ddc16241020d",
   "metadata": {},
   "outputs": [
    {
     "ename": "SyntaxError",
     "evalue": "invalid syntax (1976759610.py, line 3)",
     "output_type": "error",
     "traceback": [
      "\u001b[1;36m  Input \u001b[1;32mIn [2]\u001b[1;36m\u001b[0m\n\u001b[1;33m    .ipynb_checkpoints\u001b[0m\n\u001b[1;37m    ^\u001b[0m\n\u001b[1;31mSyntaxError\u001b[0m\u001b[1;31m:\u001b[0m invalid syntax\n"
     ]
    }
   ],
   "source": [
    "%run -i list_file.py\n",
    "\n",
    ".ipynb_checkpoints\n",
    "InvokePythonScript.ipynb\n",
    "list_file.py\n",
    "list_file_path.py"
   ]
  },
  {
   "cell_type": "code",
   "execution_count": null,
   "id": "dd4316c2-ebb7-47c8-8bec-cac7144831a6",
   "metadata": {},
   "outputs": [],
   "source": [
    "%run -i list_file.py\n",
    "\n",
    ".ipynb_checkpoints\n",
    "InvokePythonScript.ipynb\n",
    "list_file.py\n",
    "list_file_path.py"
   ]
  },
  {
   "cell_type": "code",
   "execution_count": null,
   "id": "5d77da2d-6195-4238-bcf9-9fc1c8d81dcd",
   "metadata": {},
   "outputs": [],
   "source": [
    "%run -i list_file.py\n",
    "\n",
    ".ipynb_checkpoints\n",
    "InvokePythonScript.ipynb\n",
    "list_file.py\n",
    "list_file_path.py"
   ]
  },
  {
   "cell_type": "code",
   "execution_count": null,
   "id": "9342a90e-fc21-4a87-95a0-4e05ebbd175d",
   "metadata": {},
   "outputs": [],
   "source": []
  }
 ],
 "metadata": {
  "kernelspec": {
   "display_name": "Python 3 (ipykernel)",
   "language": "python",
   "name": "python3"
  },
  "language_info": {
   "codemirror_mode": {
    "name": "ipython",
    "version": 3
   },
   "file_extension": ".py",
   "mimetype": "text/x-python",
   "name": "python",
   "nbconvert_exporter": "python",
   "pygments_lexer": "ipython3",
   "version": "3.9.1"
  }
 },
 "nbformat": 4,
 "nbformat_minor": 5
}
